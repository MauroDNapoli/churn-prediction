{
 "cells": [
  {
   "cell_type": "markdown",
   "metadata": {},
   "source": [
    " "
   ]
  },
  {
   "cell_type": "markdown",
   "metadata": {},
   "source": [
    "One of Telco's main problems is customer churn. Is it possible to predict that the customer will churn before the churn happens?\n",
    "----\n",
    "\n",
    "\n"
   ]
  },
  {
   "cell_type": "markdown",
   "metadata": {},
   "source": [
    "download dataset to your local instance:"
   ]
  },
  {
   "cell_type": "code",
   "execution_count": null,
   "metadata": {},
   "outputs": [],
   "source": [
    "!wget https://raw.githubusercontent.com/MauroDNapoli/churn-prediction/main/WA_Fn-UseC_-Telco-Customer-Churn.csv"
   ]
  },
  {
   "cell_type": "markdown",
   "metadata": {},
   "source": [
    "download and install libraries:"
   ]
  },
  {
   "cell_type": "code",
   "execution_count": null,
   "metadata": {},
   "outputs": [],
   "source": [
    "!wget https://raw.githubusercontent.com/MauroDNapoli/churn-prediction/main/requirements.txt\n",
    "!pip install -r requirements.txt"
   ]
  },
  {
   "cell_type": "code",
   "execution_count": 4,
   "metadata": {},
   "outputs": [],
   "source": [
    "import pandas as pd\n",
    "import numpy as np\n",
    "from sklearn.ensemble import RandomForestClassifier, GradientBoostingClassifier\n",
    "from sklearn.linear_model import LogisticRegression\n",
    "from sklearn.model_selection import train_test_split, RandomizedSearchCV, StratifiedShuffleSplit\n",
    "from sklearn.pipeline import Pipeline\n",
    "from sklearn.preprocessing import OneHotEncoder, KBinsDiscretizer, LabelEncoder, StandardScaler\n",
    "from sklearn.impute import SimpleImputer\n",
    "from sklearn.compose import ColumnTransformer\n",
    "from sklearn.metrics import balanced_accuracy_score, f1_score, precision_score, \\\n",
    "                            precision_recall_curve, plot_precision_recall_curve, average_precision_score\n",
    "from sklearn.inspection import permutation_importance\n",
    "import matplotlib.pyplot as plt"
   ]
  },
  {
   "cell_type": "code",
   "execution_count": 5,
   "metadata": {},
   "outputs": [],
   "source": [
    "def find_nearest(array: np.array, value: np.float):\n",
    "    \"\"\"\n",
    "    return the index of the nearest value \n",
    "    to the input value in the array\n",
    "    \"\"\"\n",
    "    array = np.asarray(array)\n",
    "    idx = (np.abs(array - value)).argmin()\n",
    "    return idx"
   ]
  },
  {
   "cell_type": "markdown",
   "metadata": {},
   "source": [
    "Load Data\n",
    "-----"
   ]
  },
  {
   "cell_type": "code",
   "execution_count": 6,
   "metadata": {},
   "outputs": [
    {
     "data": {
      "text/html": [
       "<div>\n",
       "<style scoped>\n",
       "    .dataframe tbody tr th:only-of-type {\n",
       "        vertical-align: middle;\n",
       "    }\n",
       "\n",
       "    .dataframe tbody tr th {\n",
       "        vertical-align: top;\n",
       "    }\n",
       "\n",
       "    .dataframe thead th {\n",
       "        text-align: right;\n",
       "    }\n",
       "</style>\n",
       "<table border=\"1\" class=\"dataframe\">\n",
       "  <thead>\n",
       "    <tr style=\"text-align: right;\">\n",
       "      <th></th>\n",
       "      <th>customerID</th>\n",
       "      <th>gender</th>\n",
       "      <th>SeniorCitizen</th>\n",
       "      <th>Partner</th>\n",
       "      <th>Dependents</th>\n",
       "      <th>tenure</th>\n",
       "      <th>PhoneService</th>\n",
       "      <th>MultipleLines</th>\n",
       "      <th>InternetService</th>\n",
       "      <th>OnlineSecurity</th>\n",
       "      <th>...</th>\n",
       "      <th>DeviceProtection</th>\n",
       "      <th>TechSupport</th>\n",
       "      <th>StreamingTV</th>\n",
       "      <th>StreamingMovies</th>\n",
       "      <th>Contract</th>\n",
       "      <th>PaperlessBilling</th>\n",
       "      <th>PaymentMethod</th>\n",
       "      <th>MonthlyCharges</th>\n",
       "      <th>TotalCharges</th>\n",
       "      <th>Churn</th>\n",
       "    </tr>\n",
       "  </thead>\n",
       "  <tbody>\n",
       "    <tr>\n",
       "      <th>0</th>\n",
       "      <td>7590-VHVEG</td>\n",
       "      <td>Female</td>\n",
       "      <td>0</td>\n",
       "      <td>Yes</td>\n",
       "      <td>No</td>\n",
       "      <td>1</td>\n",
       "      <td>No</td>\n",
       "      <td>No phone service</td>\n",
       "      <td>DSL</td>\n",
       "      <td>No</td>\n",
       "      <td>...</td>\n",
       "      <td>No</td>\n",
       "      <td>No</td>\n",
       "      <td>No</td>\n",
       "      <td>No</td>\n",
       "      <td>Month-to-month</td>\n",
       "      <td>Yes</td>\n",
       "      <td>Electronic check</td>\n",
       "      <td>29.85</td>\n",
       "      <td>29.85</td>\n",
       "      <td>No</td>\n",
       "    </tr>\n",
       "    <tr>\n",
       "      <th>1</th>\n",
       "      <td>5575-GNVDE</td>\n",
       "      <td>Male</td>\n",
       "      <td>0</td>\n",
       "      <td>No</td>\n",
       "      <td>No</td>\n",
       "      <td>34</td>\n",
       "      <td>Yes</td>\n",
       "      <td>No</td>\n",
       "      <td>DSL</td>\n",
       "      <td>Yes</td>\n",
       "      <td>...</td>\n",
       "      <td>Yes</td>\n",
       "      <td>No</td>\n",
       "      <td>No</td>\n",
       "      <td>No</td>\n",
       "      <td>One year</td>\n",
       "      <td>No</td>\n",
       "      <td>Mailed check</td>\n",
       "      <td>56.95</td>\n",
       "      <td>1889.50</td>\n",
       "      <td>No</td>\n",
       "    </tr>\n",
       "    <tr>\n",
       "      <th>2</th>\n",
       "      <td>3668-QPYBK</td>\n",
       "      <td>Male</td>\n",
       "      <td>0</td>\n",
       "      <td>No</td>\n",
       "      <td>No</td>\n",
       "      <td>2</td>\n",
       "      <td>Yes</td>\n",
       "      <td>No</td>\n",
       "      <td>DSL</td>\n",
       "      <td>Yes</td>\n",
       "      <td>...</td>\n",
       "      <td>No</td>\n",
       "      <td>No</td>\n",
       "      <td>No</td>\n",
       "      <td>No</td>\n",
       "      <td>Month-to-month</td>\n",
       "      <td>Yes</td>\n",
       "      <td>Mailed check</td>\n",
       "      <td>53.85</td>\n",
       "      <td>108.15</td>\n",
       "      <td>Yes</td>\n",
       "    </tr>\n",
       "    <tr>\n",
       "      <th>3</th>\n",
       "      <td>7795-CFOCW</td>\n",
       "      <td>Male</td>\n",
       "      <td>0</td>\n",
       "      <td>No</td>\n",
       "      <td>No</td>\n",
       "      <td>45</td>\n",
       "      <td>No</td>\n",
       "      <td>No phone service</td>\n",
       "      <td>DSL</td>\n",
       "      <td>Yes</td>\n",
       "      <td>...</td>\n",
       "      <td>Yes</td>\n",
       "      <td>Yes</td>\n",
       "      <td>No</td>\n",
       "      <td>No</td>\n",
       "      <td>One year</td>\n",
       "      <td>No</td>\n",
       "      <td>Bank transfer (automatic)</td>\n",
       "      <td>42.30</td>\n",
       "      <td>1840.75</td>\n",
       "      <td>No</td>\n",
       "    </tr>\n",
       "    <tr>\n",
       "      <th>4</th>\n",
       "      <td>9237-HQITU</td>\n",
       "      <td>Female</td>\n",
       "      <td>0</td>\n",
       "      <td>No</td>\n",
       "      <td>No</td>\n",
       "      <td>2</td>\n",
       "      <td>Yes</td>\n",
       "      <td>No</td>\n",
       "      <td>Fiber optic</td>\n",
       "      <td>No</td>\n",
       "      <td>...</td>\n",
       "      <td>No</td>\n",
       "      <td>No</td>\n",
       "      <td>No</td>\n",
       "      <td>No</td>\n",
       "      <td>Month-to-month</td>\n",
       "      <td>Yes</td>\n",
       "      <td>Electronic check</td>\n",
       "      <td>70.70</td>\n",
       "      <td>151.65</td>\n",
       "      <td>Yes</td>\n",
       "    </tr>\n",
       "  </tbody>\n",
       "</table>\n",
       "<p>5 rows × 21 columns</p>\n",
       "</div>"
      ],
      "text/plain": [
       "   customerID  gender  SeniorCitizen Partner Dependents  tenure PhoneService  \\\n",
       "0  7590-VHVEG  Female              0     Yes         No       1           No   \n",
       "1  5575-GNVDE    Male              0      No         No      34          Yes   \n",
       "2  3668-QPYBK    Male              0      No         No       2          Yes   \n",
       "3  7795-CFOCW    Male              0      No         No      45           No   \n",
       "4  9237-HQITU  Female              0      No         No       2          Yes   \n",
       "\n",
       "      MultipleLines InternetService OnlineSecurity  ... DeviceProtection  \\\n",
       "0  No phone service             DSL             No  ...               No   \n",
       "1                No             DSL            Yes  ...              Yes   \n",
       "2                No             DSL            Yes  ...               No   \n",
       "3  No phone service             DSL            Yes  ...              Yes   \n",
       "4                No     Fiber optic             No  ...               No   \n",
       "\n",
       "  TechSupport StreamingTV StreamingMovies        Contract PaperlessBilling  \\\n",
       "0          No          No              No  Month-to-month              Yes   \n",
       "1          No          No              No        One year               No   \n",
       "2          No          No              No  Month-to-month              Yes   \n",
       "3         Yes          No              No        One year               No   \n",
       "4          No          No              No  Month-to-month              Yes   \n",
       "\n",
       "               PaymentMethod MonthlyCharges  TotalCharges  Churn  \n",
       "0           Electronic check          29.85         29.85     No  \n",
       "1               Mailed check          56.95       1889.50     No  \n",
       "2               Mailed check          53.85        108.15    Yes  \n",
       "3  Bank transfer (automatic)          42.30       1840.75     No  \n",
       "4           Electronic check          70.70        151.65    Yes  \n",
       "\n",
       "[5 rows x 21 columns]"
      ]
     },
     "execution_count": 6,
     "metadata": {},
     "output_type": "execute_result"
    }
   ],
   "source": [
    "df = pd.read_csv('WA_Fn-UseC_-Telco-Customer-Churn.csv')\n",
    "df.head()"
   ]
  },
  {
   "cell_type": "code",
   "execution_count": 7,
   "metadata": {},
   "outputs": [
    {
     "name": "stdout",
     "output_type": "stream",
     "text": [
      "The dataset has a total of 7043 rows.\n"
     ]
    }
   ],
   "source": [
    "print(f\"The dataset has a total of {len(df)} rows.\")"
   ]
  },
  {
   "cell_type": "markdown",
   "metadata": {},
   "source": [
    "Split train-test\n",
    "-----"
   ]
  },
  {
   "cell_type": "markdown",
   "metadata": {},
   "source": [
    " - We are going to use 15% of the dataset for testing purposes.\n",
    " - As the class distribution is unbalanced we need to make sure we have the same proportion of each class in the train and test set."
   ]
  },
  {
   "cell_type": "code",
   "execution_count": 42,
   "metadata": {},
   "outputs": [],
   "source": [
    "X = df[df.columns[:-1]]  # keep all the features columns\n",
    "y = df[df.columns[-1]]  # target column\n",
    "sss = StratifiedShuffleSplit(n_splits=1, test_size=0.15)"
   ]
  },
  {
   "cell_type": "code",
   "execution_count": 43,
   "metadata": {},
   "outputs": [],
   "source": [
    "for train_index, test_index in sss.split(X, y):\n",
    "    X_train = X[X.index.isin(train_index)]\n",
    "    y_train = y[y.index.isin(train_index)]\n",
    "    X_test = X[X.index.isin(test_index)]\n",
    "    y_test = y[y.index.isin(test_index)]"
   ]
  },
  {
   "cell_type": "markdown",
   "metadata": {},
   "source": [
    "Fit scikit-learn model\n",
    "----"
   ]
  },
  {
   "cell_type": "markdown",
   "metadata": {},
   "source": [
    "#### \n",
    "- To approach this problem we decided to fit three different models. Logistic Regression, Random Forest and Gradient Boosting.\n",
    "- We chose three different models based, with different complexity. Logistic Regression is the simplest and Gradient Boosting is the most complex.\n",
    "- For searching the best hyperparameters we defined one different grid for each model and applied Randomize search to choose the best ones.\n",
    "- We divide categorical and continuous features and apply a different type of preprocessing to each of them."
   ]
  },
  {
   "cell_type": "markdown",
   "metadata": {},
   "source": [
    "#### What metrics did we choose? Why? "
   ]
  },
  {
   "cell_type": "markdown",
   "metadata": {},
   "source": [
    "- We chose two different metrics to decide which model is the best one; **F1 score**, **balanced accuracy** and **average precision recall**, as false positive (FP) and false negative (FN) are crucial. Specially the latter."
   ]
  },
  {
   "cell_type": "markdown",
   "metadata": {},
   "source": [
    "#### Separate the columns type "
   ]
  },
  {
   "cell_type": "code",
   "execution_count": 44,
   "metadata": {},
   "outputs": [],
   "source": [
    "continuous_columns = ['MonthlyCharges', 'TotalCharges']\n",
    "\n",
    "categorical_columns = ['gender', 'SeniorCitizen', 'Partner', 'Dependents',\n",
    "                       'tenure', 'PhoneService', 'MultipleLines', 'InternetService',\n",
    "                       'OnlineSecurity', 'OnlineBackup', 'DeviceProtection', 'TechSupport',\n",
    "                       'StreamingTV', 'StreamingMovies', 'Contract', 'PaperlessBilling',\n",
    "                       'PaymentMethod']"
   ]
  },
  {
   "cell_type": "markdown",
   "metadata": {},
   "source": [
    "#### Define the parameters grid for both models"
   ]
  },
  {
   "cell_type": "code",
   "execution_count": 68,
   "metadata": {},
   "outputs": [],
   "source": [
    "param_grid_lr = {'model__penalty': [\"l1\", \"l2\"], # Type of regularization, use to penalize the outliers\n",
    "              'model__C': [0.1, 0.2, 0.3, 0.5, 0.6, 0.7, 0.9, 1], # How much regularization should we use\n",
    "              'model__solver': [\"newton-cg\", \"lbfgs\", \"liblinear\", \"sag\"] # Solver to find the best parameters\n",
    "             }\n",
    "\n",
    "param_grid_rf = {'model__max_features': [\"sqrt\", \"log2\"], # How many features will each tree use\n",
    "              'model__min_samples_leaf': [3, 4, 5, 6, 7, 8, 9, 10], # How many samples each leaf will have, if it's too low there are overfitting risks\n",
    "              'model__max_depth': [None, 1, 2, 3, 5, 7, 8, 9, 10], # Depth of each tree, more depth, more changes of overfitting\n",
    "              'model__n_estimators': [100, 120, 140, 160, 180] # Number of trees in the forest\n",
    "             }\n",
    "\n",
    "param_grid_gb = {'model__max_features': [\"sqrt\", \"log2\"], # How many features will each tree use\n",
    "              'model__min_samples_leaf': [3, 4, 5, 6, 8, 9, 10], # How many samples each leaf will have, if it's too low there are overfitting risks\n",
    "              'model__max_depth': [None, 1, 2, 3, 5, 8, 9, 10], # Depth of each tree, more depth, more changes of overfitting\n",
    "              # 'model__loss': [\"deviance\", \"exponential\"], # Which loss function to use\n",
    "              'model__min_samples_split': [3, 4, 5, 7, 8, 9, 10], # The minimum number of samples to split a node\n",
    "              'model__n_estimators': [100, 120, 140, 160] # Number of trees in the forest\n",
    "             }"
   ]
  },
  {
   "cell_type": "markdown",
   "metadata": {},
   "source": [
    "#### Fit the different pipelines and search the best hyperparams using RandomizedSearchCV"
   ]
  },
  {
   "cell_type": "code",
   "execution_count": 69,
   "metadata": {},
   "outputs": [
    {
     "name": "stderr",
     "output_type": "stream",
     "text": [
      "/usr/local/Caskroom/miniconda/base/envs/ml/lib/python3.8/site-packages/sklearn/model_selection/_search.py:278: UserWarning: The total space of parameters 64 is smaller than n_iter=125. Running 64 iterations. For exhaustive searches, use GridSearchCV.\n",
      "  warnings.warn(\n"
     ]
    },
    {
     "name": "stdout",
     "output_type": "stream",
     "text": [
      "The F1 score for LogisticRegression is: 0.56\n",
      "The balanced_accuracy score for LogisticRegression is: 0.72\n",
      "The average_precision_recall score for LogisticRegression is: 0.69\n",
      "The best params for LogisticRegression are: \n",
      "{'model__solver': 'liblinear', 'model__penalty': 'l1', 'model__C': 0.1}\n",
      "------------------------------------------------------------\n",
      "The F1 score for RandomForestClassifier is: 0.57\n",
      "The balanced_accuracy score for RandomForestClassifier is: 0.72\n",
      "The average_precision_recall score for RandomForestClassifier is: 0.66\n",
      "The best params for RandomForestClassifier are: \n",
      "{'model__n_estimators': 180, 'model__min_samples_leaf': 10, 'model__max_features': 'sqrt', 'model__max_depth': 10}\n",
      "------------------------------------------------------------\n",
      "The F1 score for GradientBoostingClassifier is: 0.64\n",
      "The balanced_accuracy score for GradientBoostingClassifier is: 0.75\n",
      "The average_precision_recall score for GradientBoostingClassifier is: 0.69\n",
      "The best params for GradientBoostingClassifier are: \n",
      "{'model__n_estimators': 100, 'model__min_samples_split': 5, 'model__min_samples_leaf': 4, 'model__max_features': 'sqrt', 'model__max_depth': 3}\n",
      "------------------------------------------------------------\n"
     ]
    },
    {
     "data": {
      "image/png": "[encoded data removed]",
      "text/plain": [
       "<Figure size 432x288 with 1 Axes>"
      ]
     },
     "metadata": {
      "needs_background": "light"
     },
     "output_type": "display_data"
    },
    {
     "data": {
      "image/png": "[encoded data removed]",
      "text/plain": [
       "<Figure size 432x288 with 1 Axes>"
      ]
     },
     "metadata": {
      "needs_background": "light"
     },
     "output_type": "display_data"
    },
    {
     "data": {
      "image/png": "[encoded data removed]",
      "text/plain": [
       "<Figure size 432x288 with 1 Axes>"
      ]
     },
     "metadata": {
      "needs_background": "light"
     },
     "output_type": "display_data"
    }
   ],
   "source": [
    "models = [(LogisticRegression(class_weight={0:1,1:10}), param_grid_lr),\n",
    "          (RandomForestClassifier(class_weight={0:1,1:10}), param_grid_rf),\n",
    "          (GradientBoostingClassifier(), param_grid_gb)]\n",
    "\n",
    "# turn labels from 'No', 'Yes' to [0,1]\n",
    "le = LabelEncoder()\n",
    "le.fit(y_train)\n",
    "\n",
    "\n",
    "cat_pipe = Pipeline([('OHE', OneHotEncoder(handle_unknown='ignore'))])\n",
    "\n",
    "continuous_pipe = Pipeline([('HandleMissing', SimpleImputer(strategy='mean')), \n",
    "                            ('scaler', StandardScaler())\n",
    "                           ])\n",
    "\n",
    "preprocess = ColumnTransformer([('categorical', cat_pipe, categorical_columns),\n",
    "                                ('continuous', continuous_pipe, continuous_columns)\n",
    "                               ])\n",
    "all_models = []\n",
    "for model, param_grid in models:\n",
    "    pipe = Pipeline([('preprocessing', preprocess),\n",
    "                     ('model', model)\n",
    "                    ])\n",
    "\n",
    "    random_cv = RandomizedSearchCV(estimator = pipe,\n",
    "                                   param_distributions=param_grid,\n",
    "                                   n_iter = 125,\n",
    "                                   cv=5,\n",
    "                                   scoring=\"average_precision\",\n",
    "                                   n_jobs=-1)\n",
    "\n",
    "    random_cv.fit(X_train, le.transform(y_train))\n",
    "    model_name = type(model).__name__\n",
    "    all_models.append(random_cv) #  Save model for later\n",
    "    y_pred = random_cv.predict(X_test)\n",
    "    y_score = random_cv.predict_proba(X_test)\n",
    "    \n",
    "    score = f1_score(le.transform(y_test), y_pred)\n",
    "    print(f\"The F1 score for {model_name} is: %.{2}f\" % score)\n",
    "    \n",
    "    b_score = balanced_accuracy_score(le.transform(y_test), y_pred)\n",
    "    print(f\"The balanced_accuracy score for {model_name} is: %.{2}f\" % b_score)\n",
    "\n",
    "    average_precision = average_precision_score(le.transform(y_test), y_score[:, 1])\n",
    "    print(f\"The average_precision_recall score for {model_name} is: %.{2}f\" % average_precision)\n",
    "    print(f\"The best params for {model_name} are: \\n{random_cv.best_params_}\")\n",
    "    \n",
    "    disp = plot_precision_recall_curve(random_cv, X_test, le.transform(y_test))\n",
    "    disp.ax_.set_title(\"2-class Precision-Recall {0} curve: AP={1:0.2f}\".format(model_name, average_precision));\n",
    "    print(\"------------------------------------------------------------\")"
   ]
  },
  {
   "cell_type": "markdown",
   "metadata": {},
   "source": [
    "- We think it is important to plot the precision recall curve as with that information the business expert can decide which is the best precision-recall trade-off and chose a threshold based on that decision."
   ]
  },
  {
   "cell_type": "markdown",
   "metadata": {},
   "source": [
    "Altough the three models metrics are quite similar, Gradient Boosting is the model with the highest metrics overall. In a first instance, we will choose the Gradient Boosting Classifier as the best model."
   ]
  },
  {
   "cell_type": "markdown",
   "metadata": {},
   "source": [
    "#### The best model is Gradient Boosting Classifier with the following parameters:\n",
    "{'model__n_estimators': 100, 'model__min_samples_split': 5, 'model__min_samples_leaf': 4, 'model__max_features': 'sqrt', 'model__max_depth': 3, 'model__loss': 'exponential'}"
   ]
  },
  {
   "cell_type": "code",
   "execution_count": 71,
   "metadata": {},
   "outputs": [
    {
     "data": {
      "text/plain": [
       "{'model__n_estimators': 100,\n",
       " 'model__min_samples_split': 5,\n",
       " 'model__min_samples_leaf': 4,\n",
       " 'model__max_features': 'sqrt',\n",
       " 'model__max_depth': 3}"
      ]
     },
     "execution_count": 71,
     "metadata": {},
     "output_type": "execute_result"
    }
   ],
   "source": [
    "all_models[2].best_params_"
   ]
  },
  {
   "cell_type": "markdown",
   "metadata": {},
   "source": [
    "### Best model pipeline:"
   ]
  },
  {
   "cell_type": "code",
   "execution_count": 54,
   "metadata": {},
   "outputs": [
    {
     "name": "stdout",
     "output_type": "stream",
     "text": [
      "Pipeline(steps=[('preprocessing',\n",
      "                 ColumnTransformer(transformers=[('categorical',\n",
      "                                                  Pipeline(steps=[('OHE',\n",
      "                                                                   OneHotEncoder(handle_unknown='ignore'))]),\n",
      "                                                  ['gender', 'SeniorCitizen',\n",
      "                                                   'Partner', 'Dependents',\n",
      "                                                   'tenure', 'PhoneService',\n",
      "                                                   'MultipleLines',\n",
      "                                                   'InternetService',\n",
      "                                                   'OnlineSecurity',\n",
      "                                                   'OnlineBackup',\n",
      "                                                   'DeviceProtection',\n",
      "                                                   'TechSupport', 'StreamingTV',\n",
      "                                                   'StreamingMovies',\n",
      "                                                   'Contract',\n",
      "                                                   'PaperlessBilling',\n",
      "                                                   'PaymentMethod']),\n",
      "                                                 ('continuous',\n",
      "                                                  Pipeline(steps=[('HandleMissing',\n",
      "                                                                   SimpleImputer()),\n",
      "                                                                  ('scaler',\n",
      "                                                                   StandardScaler())]),\n",
      "                                                  ['MonthlyCharges',\n",
      "                                                   'TotalCharges'])])),\n",
      "                ('model',\n",
      "                 GradientBoostingClassifier(loss='exponential',\n",
      "                                            max_features='sqrt',\n",
      "                                            min_samples_leaf=3,\n",
      "                                            min_samples_split=5))])\n"
     ]
    }
   ],
   "source": [
    "print(all_models[2].best_estimator_)"
   ]
  },
  {
   "cell_type": "markdown",
   "metadata": {},
   "source": [
    "## Conclusions and results"
   ]
  },
  {
   "cell_type": "markdown",
   "metadata": {},
   "source": [
    "### Feature importance:"
   ]
  },
  {
   "cell_type": "markdown",
   "metadata": {},
   "source": [
    "#### It is important for the business to know which are the most relevant features that explain customer churn."
   ]
  },
  {
   "cell_type": "code",
   "execution_count": 48,
   "metadata": {},
   "outputs": [],
   "source": [
    "# Get permutation importance of features\n",
    "result = permutation_importance(all_models[2].best_estimator_, X_test, le.transform(y_test), n_repeats=10)"
   ]
  },
  {
   "cell_type": "code",
   "execution_count": 73,
   "metadata": {},
   "outputs": [
    {
     "data": {
      "image/png": "[encoded data removed]",
      "text/plain": [
       "<Figure size 1008x504 with 1 Axes>"
      ]
     },
     "metadata": {
      "needs_background": "light"
     },
     "output_type": "display_data"
    }
   ],
   "source": [
    "sorted_idx = result.importances_mean.argsort()\n",
    "\n",
    "fig, ax = plt.subplots(figsize=(14,7))\n",
    "ax.boxplot(result.importances[sorted_idx].T, vert=False, labels=X_test.columns[sorted_idx])\n",
    "ax.set_title(\"Permutation Importances (test set)\")\n",
    "fig.tight_layout()\n",
    "plt.show()"
   ]
  },
  {
   "cell_type": "markdown",
   "metadata": {},
   "source": [
    "We can see that Contract, totalCharges, tenure, InternetService and OnlineSecurity are the 5 most important features."
   ]
  },
  {
   "cell_type": "markdown",
   "metadata": {},
   "source": [
    "### Recommendation:"
   ]
  },
  {
   "cell_type": "markdown",
   "metadata": {},
   "source": [
    "#### As we don't know what the business wants, we can recommend what recall to choose. We suppose that the business wants to have a high recall with a low number of false positives for this step."
   ]
  },
  {
   "cell_type": "markdown",
   "metadata": {},
   "source": [
    "#### We recommend a recall of 90% in order to prevent almost every possible churn."
   ]
  },
  {
   "cell_type": "code",
   "execution_count": 64,
   "metadata": {},
   "outputs": [],
   "source": [
    "y_score = all_models[2].predict_proba(X_test)"
   ]
  },
  {
   "cell_type": "code",
   "execution_count": 65,
   "metadata": {},
   "outputs": [],
   "source": [
    "precision, recall, thresholds = precision_recall_curve(le.transform(y_test), y_score[:, 1])"
   ]
  },
  {
   "cell_type": "code",
   "execution_count": 66,
   "metadata": {},
   "outputs": [],
   "source": [
    "recall_desired = 0.9\n",
    "idx = find_nearest(recall, recall_desired)"
   ]
  },
  {
   "cell_type": "code",
   "execution_count": 67,
   "metadata": {},
   "outputs": [
    {
     "name": "stdout",
     "output_type": "stream",
     "text": [
      "for a recall of 0.90, we should set a threshold of: 0.19 and we will get an precision of: 0.47\n"
     ]
    }
   ],
   "source": [
    "print(\"for a recall of {0:0.2f}, we should set a threshold of: {1:0.2f} and we will get an precision of: {2:0.2f}\".format(recall[idx], thresholds[idx], precision[idx]))"
   ]
  },
  {
   "cell_type": "markdown",
   "metadata": {},
   "source": [
    "### One line recommendation for the business:"
   ]
  },
  {
   "cell_type": "markdown",
   "metadata": {},
   "source": [
    "#### This means that we setting a threshold of 0.19 we can identify 90% of the customers that are going to churn with a precision of 47%."
   ]
  },
  {
   "cell_type": "markdown",
   "metadata": {},
   "source": [
    "### Step by step summary:\n",
    "- Load the data and do a quick analysis of the data and features available.\n",
    "- Choose a research question.\n",
    "- preprocess and do feature engineering over each column.\n",
    "- Decide which were the best metrics to address this problem.\n",
    "- Choose two different models to fit using RandomizedSearchCV for finding the best hyperparameters.\n",
    "- Fit the different models unsing n_fold = 5 and compare three models metrics.\n",
    "- Choose the best model and give business recommendations based on that model."
   ]
  },
  {
   "cell_type": "markdown",
   "metadata": {},
   "source": [
    "### Next steps:\n",
    "- Discuss with the business which are their expectations regarding false positive and false negatives.\n",
    "- Train a new model removing the least important features and compare perfomance against our current best_model. A model with less features is easier to maintain.\n",
    "- Try to boost performance using a model ensemble."
   ]
  }
 ],
 "metadata": {
  "kernelspec": {
   "display_name": "Python 3",
   "language": "python",
   "name": "python3"
  },
  "language_info": {
   "codemirror_mode": {
    "name": "ipython",
    "version": 3
   },
   "file_extension": ".py",
   "mimetype": "text/x-python",
   "name": "python",
   "nbconvert_exporter": "python",
   "pygments_lexer": "ipython3",
   "version": "3.8.5"
  },
  "toc": {
   "base_numbering": 1,
   "nav_menu": {},
   "number_sections": false,
   "sideBar": false,
   "skip_h1_title": false,
   "title_cell": "Table of Contents",
   "title_sidebar": "Contents",
   "toc_cell": true,
   "toc_position": {},
   "toc_section_display": true,
   "toc_window_display": false
  }
 },
 "nbformat": 4,
 "nbformat_minor": 4
}
